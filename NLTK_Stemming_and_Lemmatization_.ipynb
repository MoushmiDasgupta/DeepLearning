{
  "nbformat": 4,
  "nbformat_minor": 0,
  "metadata": {
    "colab": {
      "name": "NLTK - Stemming and Lemmatization .ipynb",
      "provenance": []
    },
    "kernelspec": {
      "name": "python3",
      "display_name": "Python 3"
    },
    "language_info": {
      "name": "python"
    }
  },
  "cells": [
    {
      "cell_type": "markdown",
      "source": [
        "\n",
        "nlp - Porter Stemming and Lematization\n",
        "```\n",
        "# This is formatted as code\n",
        "```\n",
        "\n"
      ],
      "metadata": {
        "id": "9mNxx3OiaApd"
      }
    },
    {
      "cell_type": "code",
      "execution_count": 1,
      "metadata": {
        "id": "wkJWInC2Zxkz"
      },
      "outputs": [],
      "source": [
        "import nltk\n",
        "\n"
      ]
    },
    {
      "cell_type": "code",
      "source": [
        "from nltk.stem import *"
      ],
      "metadata": {
        "id": "g4Z8Is9LaP67"
      },
      "execution_count": 2,
      "outputs": []
    },
    {
      "cell_type": "code",
      "source": [
        "stemmer = PorterStemmer()"
      ],
      "metadata": {
        "id": "8jTZUZxkajmh"
      },
      "execution_count": 3,
      "outputs": []
    },
    {
      "cell_type": "code",
      "source": [
        "plurals = ['knives','dices','caresses', 'flies', 'dies', 'mules', 'denied','died', 'agreed', 'owned', 'humbled', 'size','meeting']"
      ],
      "metadata": {
        "id": "kdNr3auEajiC"
      },
      "execution_count": 36,
      "outputs": []
    },
    {
      "cell_type": "code",
      "source": [
        "singles = [stemmer.stem(plural) for plural in plurals]"
      ],
      "metadata": {
        "id": "OjmOiWQyajeD"
      },
      "execution_count": 37,
      "outputs": []
    },
    {
      "cell_type": "markdown",
      "source": [
        ""
      ],
      "metadata": {
        "id": "Ly25BvxfZ9sU"
      }
    },
    {
      "cell_type": "code",
      "source": [
        "print(' '.join(singles))"
      ],
      "metadata": {
        "colab": {
          "base_uri": "https://localhost:8080/"
        },
        "id": "OLD4xDcGbAJx",
        "outputId": "e4ef4c40-76d7-41e2-8882-040444089be2"
      },
      "execution_count": 38,
      "outputs": [
        {
          "output_type": "stream",
          "name": "stdout",
          "text": [
            "knive dice caress fli die mule deni die agre own humbl size meet\n"
          ]
        }
      ]
    },
    {
      "cell_type": "code",
      "source": [
        "import spacy"
      ],
      "metadata": {
        "id": "0OfFdl3dbfXO"
      },
      "execution_count": 14,
      "outputs": []
    },
    {
      "cell_type": "code",
      "source": [
        "from spacy.lang.en.examples import sentences "
      ],
      "metadata": {
        "id": "Yv9AMMLwcReo"
      },
      "execution_count": 15,
      "outputs": []
    },
    {
      "cell_type": "code",
      "source": [
        "nlp = spacy.load(\"en_core_web_sm\")\n",
        "doc = nlp(sentences[0])\n",
        "print(doc.text)\n",
        "for token in doc:\n",
        "    print(token.text, token.pos_, token.dep_)"
      ],
      "metadata": {
        "colab": {
          "base_uri": "https://localhost:8080/"
        },
        "id": "7TiqBSOJck6r",
        "outputId": "cb5ea675-2279-4fdd-bb33-5c2bed2a1456"
      },
      "execution_count": 16,
      "outputs": [
        {
          "output_type": "stream",
          "name": "stdout",
          "text": [
            "Apple is looking at buying U.K. startup for $1 billion\n",
            "Apple PROPN nsubj\n",
            "is AUX aux\n",
            "looking VERB ROOT\n",
            "at ADP prep\n",
            "buying VERB pcomp\n",
            "U.K. PROPN compound\n",
            "startup NOUN dobj\n",
            "for ADP prep\n",
            "$ SYM quantmod\n",
            "1 NUM compound\n",
            "billion NUM pobj\n"
          ]
        }
      ]
    },
    {
      "cell_type": "code",
      "source": [
        "doc = nlp(sentences[1])\n",
        "print(doc.text)\n",
        "for token in doc:\n",
        "    print(token.text, token.pos_, token.dep_)"
      ],
      "metadata": {
        "colab": {
          "base_uri": "https://localhost:8080/"
        },
        "id": "G7GKtoo6df6C",
        "outputId": "024e4d94-cb53-4fb8-d5a4-2c5d2f93c23e"
      },
      "execution_count": 17,
      "outputs": [
        {
          "output_type": "stream",
          "name": "stdout",
          "text": [
            "Autonomous cars shift insurance liability toward manufacturers\n",
            "Autonomous ADJ amod\n",
            "cars NOUN nsubj\n",
            "shift VERB ROOT\n",
            "insurance NOUN compound\n",
            "liability NOUN dobj\n",
            "toward ADP prep\n",
            "manufacturers NOUN pobj\n"
          ]
        }
      ]
    },
    {
      "cell_type": "code",
      "source": [
        "doc = nlp(sentences[2])\n",
        "print(doc.text)\n",
        "for token in doc:\n",
        "    print(token.text, token.pos_, token.dep_)"
      ],
      "metadata": {
        "colab": {
          "base_uri": "https://localhost:8080/"
        },
        "id": "6Y-rvs7bdvL6",
        "outputId": "258c4931-62b6-4718-af52-2d99cc5451b0"
      },
      "execution_count": 18,
      "outputs": [
        {
          "output_type": "stream",
          "name": "stdout",
          "text": [
            "San Francisco considers banning sidewalk delivery robots\n",
            "San PROPN compound\n",
            "Francisco PROPN nsubj\n",
            "considers VERB ROOT\n",
            "banning VERB xcomp\n",
            "sidewalk NOUN compound\n",
            "delivery NOUN compound\n",
            "robots NOUN dobj\n"
          ]
        }
      ]
    },
    {
      "cell_type": "code",
      "source": [
        "from nltk.corpus import wordnet as wn"
      ],
      "metadata": {
        "id": "5wGLYrfmeOrh"
      },
      "execution_count": 20,
      "outputs": []
    },
    {
      "cell_type": "code",
      "source": [
        "class WordNetLemmatizer:\n",
        "     def lemmatize(self, word: str, pos: str = \"n\") -> str:\n",
        "        \"\"\"Lemmatize `word` using WordNet's built-in morphy function.\n",
        "        Returns the input word unchanged if it cannot be found in WordNet.\n",
        "\n",
        "        :param word: The input word to lemmatize.\n",
        "        :type word: str\n",
        "        :param pos: The Part Of Speech tag. Valid options are `\"n\"` for nouns,\n",
        "            `\"v\"` for verbs, `\"a\"` for adjectives, `\"r\"` for adverbs and `\"s\"`\n",
        "            for satellite adjectives.\n",
        "        :param pos: str\n",
        "        :return: The lemma of `word`, for the given `pos`.\n",
        "        \"\"\"\n",
        "        lemmas = wn._morphy(word, pos)\n",
        "        return min(lemmas, key=len) if lemmas else word\n",
        "\n",
        "\n",
        "     def __repr__(self):\n",
        "        return \"<WordNetLemmatizer>\"\n",
        "     \n",
        "obj1 = WordNetLemmatizer()\n"
      ],
      "metadata": {
        "id": "M3Olp0u1d1x7"
      },
      "execution_count": 30,
      "outputs": []
    },
    {
      "cell_type": "code",
      "source": [
        "nltk.download('wordnet')"
      ],
      "metadata": {
        "colab": {
          "base_uri": "https://localhost:8080/"
        },
        "id": "h6rVlX8GgFi3",
        "outputId": "7918f5d1-6565-4093-c46b-ddf11becd7e3"
      },
      "execution_count": 32,
      "outputs": [
        {
          "output_type": "stream",
          "name": "stderr",
          "text": [
            "[nltk_data] Downloading package wordnet to /root/nltk_data...\n",
            "[nltk_data]   Unzipping corpora/wordnet.zip.\n"
          ]
        },
        {
          "output_type": "execute_result",
          "data": {
            "text/plain": [
              "True"
            ]
          },
          "metadata": {},
          "execution_count": 32
        }
      ]
    },
    {
      "cell_type": "code",
      "source": [
        "nltk.download('omw-1.4')"
      ],
      "metadata": {
        "colab": {
          "base_uri": "https://localhost:8080/"
        },
        "id": "LfFveqkQgPIK",
        "outputId": "925f3c24-a606-4637-bb7f-548d67c979be"
      },
      "execution_count": 34,
      "outputs": [
        {
          "output_type": "stream",
          "name": "stderr",
          "text": [
            "[nltk_data] Downloading package omw-1.4 to /root/nltk_data...\n",
            "[nltk_data]   Unzipping corpora/omw-1.4.zip.\n"
          ]
        },
        {
          "output_type": "execute_result",
          "data": {
            "text/plain": [
              "True"
            ]
          },
          "metadata": {},
          "execution_count": 34
        }
      ]
    },
    {
      "cell_type": "code",
      "source": [
        "obj1.lemmatize(\"knives\")"
      ],
      "metadata": {
        "colab": {
          "base_uri": "https://localhost:8080/",
          "height": 36
        },
        "id": "2b70bbBWep4_",
        "outputId": "c7ccc7d7-5982-493c-daf0-4264191caeaf"
      },
      "execution_count": 35,
      "outputs": [
        {
          "output_type": "execute_result",
          "data": {
            "text/plain": [
              "'knife'"
            ],
            "application/vnd.google.colaboratory.intrinsic+json": {
              "type": "string"
            }
          },
          "metadata": {},
          "execution_count": 35
        }
      ]
    },
    {
      "cell_type": "code",
      "source": [
        "obj1.lemmatize(\"flies\")"
      ],
      "metadata": {
        "colab": {
          "base_uri": "https://localhost:8080/",
          "height": 36
        },
        "id": "6F8UhQEIhC3l",
        "outputId": "711da71f-6848-4395-f62f-9ca760403577"
      },
      "execution_count": 39,
      "outputs": [
        {
          "output_type": "execute_result",
          "data": {
            "text/plain": [
              "'fly'"
            ],
            "application/vnd.google.colaboratory.intrinsic+json": {
              "type": "string"
            }
          },
          "metadata": {},
          "execution_count": 39
        }
      ]
    }
  ]
}